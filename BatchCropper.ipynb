{
 "cells": [
  {
   "cell_type": "markdown",
   "metadata": {},
   "source": [
    "Script Goals:\n",
    "Based on FloatCropperLipstick.ipynb\n",
    "1. Generate a bunch of .png files to crop all at once. \n",
    "2. Save the green output and .npy files all at once"
   ]
  },
  {
   "cell_type": "markdown",
   "metadata": {},
   "source": [
    "# **Step 1:** Find all of the .float, output.png, GreenOutput.png, and .npy filepaths"
   ]
  },
  {
   "cell_type": "code",
   "execution_count": 18,
   "metadata": {},
   "outputs": [
    {
     "name": "stdout",
     "output_type": "stream",
     "text": [
      "['/Users/maycaj/Documents/Hyperspectral-Imaging_II/Lipstick_Sunscreen Images/Sunscreen 1/CT30_1.float', '/Users/maycaj/Documents/Hyperspectral-Imaging_II/Lipstick_Sunscreen Images/Sunscreen 1/CT30_2.float', '/Users/maycaj/Documents/Hyperspectral-Imaging_II/Lipstick_Sunscreen Images/Sunscreen 1/CT30_3.float', '/Users/maycaj/Documents/Hyperspectral-Imaging_II/Lipstick_Sunscreen Images/Sunscreen 1/CT30_4.float', '/Users/maycaj/Documents/Hyperspectral-Imaging_II/Lipstick_Sunscreen Images/Sunscreen 1/CT30_5.float', '/Users/maycaj/Documents/Hyperspectral-Imaging_II/Lipstick_Sunscreen Images/Sunscreen 1/CT30_6.float', '/Users/maycaj/Documents/Hyperspectral-Imaging_II/Lipstick_Sunscreen Images/Sunscreen 1/CT30_7.float', '/Users/maycaj/Documents/Hyperspectral-Imaging_II/Lipstick_Sunscreen Images/Sunscreen 1/CT30_8.float', '/Users/maycaj/Documents/Hyperspectral-Imaging_II/Lipstick_Sunscreen Images/Sunscreen 1/CT30_9.float', '/Users/maycaj/Documents/Hyperspectral-Imaging_II/Lipstick_Sunscreen Images/Sunscreen 1/CT30_10.float', '/Users/maycaj/Documents/Hyperspectral-Imaging_II/Lipstick_Sunscreen Images/Sunscreen 1/CT30_11.float', '/Users/maycaj/Documents/Hyperspectral-Imaging_II/Lipstick_Sunscreen Images/Sunscreen 1/CT30_12.float', '/Users/maycaj/Documents/Hyperspectral-Imaging_II/Lipstick_Sunscreen Images/Sunscreen 1/CT30_13.float', '/Users/maycaj/Documents/Hyperspectral-Imaging_II/Lipstick_Sunscreen Images/Sunscreen 1/CT30_14.float', '/Users/maycaj/Documents/Hyperspectral-Imaging_II/Lipstick_Sunscreen Images/Sunscreen 1/CT30_15.float']\n",
      "['/Users/maycaj/Documents/Hyperspectral-Imaging_II/Lipstick_Sunscreen Images/Sunscreen 1/CT30_1.hdr', '/Users/maycaj/Documents/Hyperspectral-Imaging_II/Lipstick_Sunscreen Images/Sunscreen 1/CT30_2.hdr', '/Users/maycaj/Documents/Hyperspectral-Imaging_II/Lipstick_Sunscreen Images/Sunscreen 1/CT30_3.hdr', '/Users/maycaj/Documents/Hyperspectral-Imaging_II/Lipstick_Sunscreen Images/Sunscreen 1/CT30_4.hdr', '/Users/maycaj/Documents/Hyperspectral-Imaging_II/Lipstick_Sunscreen Images/Sunscreen 1/CT30_5.hdr', '/Users/maycaj/Documents/Hyperspectral-Imaging_II/Lipstick_Sunscreen Images/Sunscreen 1/CT30_6.hdr', '/Users/maycaj/Documents/Hyperspectral-Imaging_II/Lipstick_Sunscreen Images/Sunscreen 1/CT30_7.hdr', '/Users/maycaj/Documents/Hyperspectral-Imaging_II/Lipstick_Sunscreen Images/Sunscreen 1/CT30_8.hdr', '/Users/maycaj/Documents/Hyperspectral-Imaging_II/Lipstick_Sunscreen Images/Sunscreen 1/CT30_9.hdr', '/Users/maycaj/Documents/Hyperspectral-Imaging_II/Lipstick_Sunscreen Images/Sunscreen 1/CT30_10.hdr', '/Users/maycaj/Documents/Hyperspectral-Imaging_II/Lipstick_Sunscreen Images/Sunscreen 1/CT30_11.hdr', '/Users/maycaj/Documents/Hyperspectral-Imaging_II/Lipstick_Sunscreen Images/Sunscreen 1/CT30_12.hdr', '/Users/maycaj/Documents/Hyperspectral-Imaging_II/Lipstick_Sunscreen Images/Sunscreen 1/CT30_13.hdr', '/Users/maycaj/Documents/Hyperspectral-Imaging_II/Lipstick_Sunscreen Images/Sunscreen 1/CT30_14.hdr', '/Users/maycaj/Documents/Hyperspectral-Imaging_II/Lipstick_Sunscreen Images/Sunscreen 1/CT30_15.hdr']\n",
      "['/Users/maycaj/Documents/Hyperspectral-Imaging_II/Sunscreen Input/Lower Leg/CT30_1GreenOutput.png', '/Users/maycaj/Documents/Hyperspectral-Imaging_II/Sunscreen Input/Lower Leg/CT30_2GreenOutput.png', '/Users/maycaj/Documents/Hyperspectral-Imaging_II/Sunscreen Input/Lower Leg/CT30_3GreenOutput.png', '/Users/maycaj/Documents/Hyperspectral-Imaging_II/Sunscreen Input/Lower Leg/CT30_4GreenOutput.png', '/Users/maycaj/Documents/Hyperspectral-Imaging_II/Sunscreen Input/Lower Leg/CT30_5GreenOutput.png', '/Users/maycaj/Documents/Hyperspectral-Imaging_II/Sunscreen Input/Lower Leg/CT30_6GreenOutput.png', '/Users/maycaj/Documents/Hyperspectral-Imaging_II/Sunscreen Input/Lower Leg/CT30_7GreenOutput.png', '/Users/maycaj/Documents/Hyperspectral-Imaging_II/Sunscreen Input/Lower Leg/CT30_8GreenOutput.png', '/Users/maycaj/Documents/Hyperspectral-Imaging_II/Sunscreen Input/Lower Leg/CT30_9GreenOutput.png', '/Users/maycaj/Documents/Hyperspectral-Imaging_II/Sunscreen Input/Lower Leg/CT30_10GreenOutput.png', '/Users/maycaj/Documents/Hyperspectral-Imaging_II/Sunscreen Input/Lower Leg/CT30_11GreenOutput.png', '/Users/maycaj/Documents/Hyperspectral-Imaging_II/Sunscreen Input/Lower Leg/CT30_12GreenOutput.png', '/Users/maycaj/Documents/Hyperspectral-Imaging_II/Sunscreen Input/Lower Leg/CT30_13GreenOutput.png', '/Users/maycaj/Documents/Hyperspectral-Imaging_II/Sunscreen Input/Lower Leg/CT30_14GreenOutput.png', '/Users/maycaj/Documents/Hyperspectral-Imaging_II/Sunscreen Input/Lower Leg/CT30_15GreenOutput.png']\n",
      "['/Users/maycaj/Documents/Hyperspectral-Imaging_II/Sunscreen Input/Lower Leg/CT30_1output.png', '/Users/maycaj/Documents/Hyperspectral-Imaging_II/Sunscreen Input/Lower Leg/CT30_2output.png', '/Users/maycaj/Documents/Hyperspectral-Imaging_II/Sunscreen Input/Lower Leg/CT30_3output.png', '/Users/maycaj/Documents/Hyperspectral-Imaging_II/Sunscreen Input/Lower Leg/CT30_4output.png', '/Users/maycaj/Documents/Hyperspectral-Imaging_II/Sunscreen Input/Lower Leg/CT30_5output.png', '/Users/maycaj/Documents/Hyperspectral-Imaging_II/Sunscreen Input/Lower Leg/CT30_6output.png', '/Users/maycaj/Documents/Hyperspectral-Imaging_II/Sunscreen Input/Lower Leg/CT30_7output.png', '/Users/maycaj/Documents/Hyperspectral-Imaging_II/Sunscreen Input/Lower Leg/CT30_8output.png', '/Users/maycaj/Documents/Hyperspectral-Imaging_II/Sunscreen Input/Lower Leg/CT30_9output.png', '/Users/maycaj/Documents/Hyperspectral-Imaging_II/Sunscreen Input/Lower Leg/CT30_10output.png', '/Users/maycaj/Documents/Hyperspectral-Imaging_II/Sunscreen Input/Lower Leg/CT30_11output.png', '/Users/maycaj/Documents/Hyperspectral-Imaging_II/Sunscreen Input/Lower Leg/CT30_12output.png', '/Users/maycaj/Documents/Hyperspectral-Imaging_II/Sunscreen Input/Lower Leg/CT30_13output.png', '/Users/maycaj/Documents/Hyperspectral-Imaging_II/Sunscreen Input/Lower Leg/CT30_14output.png', '/Users/maycaj/Documents/Hyperspectral-Imaging_II/Sunscreen Input/Lower Leg/CT30_15output.png']\n",
      "['/Users/maycaj/Documents/Hyperspectral-Imaging_II/Sunscreen Input/Lower Leg/CT30_1Sunscreen.npy', '/Users/maycaj/Documents/Hyperspectral-Imaging_II/Sunscreen Input/Lower Leg/CT30_2Sunscreen.npy', '/Users/maycaj/Documents/Hyperspectral-Imaging_II/Sunscreen Input/Lower Leg/CT30_3Sunscreen.npy', '/Users/maycaj/Documents/Hyperspectral-Imaging_II/Sunscreen Input/Lower Leg/CT30_4Sunscreen.npy', '/Users/maycaj/Documents/Hyperspectral-Imaging_II/Sunscreen Input/Lower Leg/CT30_5Sunscreen.npy', '/Users/maycaj/Documents/Hyperspectral-Imaging_II/Sunscreen Input/Lower Leg/CT30_6Sunscreen.npy', '/Users/maycaj/Documents/Hyperspectral-Imaging_II/Sunscreen Input/Lower Leg/CT30_7Sunscreen.npy', '/Users/maycaj/Documents/Hyperspectral-Imaging_II/Sunscreen Input/Lower Leg/CT30_8Sunscreen.npy', '/Users/maycaj/Documents/Hyperspectral-Imaging_II/Sunscreen Input/Lower Leg/CT30_9Sunscreen.npy', '/Users/maycaj/Documents/Hyperspectral-Imaging_II/Sunscreen Input/Lower Leg/CT30_10Sunscreen.npy', '/Users/maycaj/Documents/Hyperspectral-Imaging_II/Sunscreen Input/Lower Leg/CT30_11Sunscreen.npy', '/Users/maycaj/Documents/Hyperspectral-Imaging_II/Sunscreen Input/Lower Leg/CT30_12Sunscreen.npy', '/Users/maycaj/Documents/Hyperspectral-Imaging_II/Sunscreen Input/Lower Leg/CT30_13Sunscreen.npy', '/Users/maycaj/Documents/Hyperspectral-Imaging_II/Sunscreen Input/Lower Leg/CT30_14Sunscreen.npy', '/Users/maycaj/Documents/Hyperspectral-Imaging_II/Sunscreen Input/Lower Leg/CT30_15Sunscreen.npy']\n"
     ]
    }
   ],
   "source": [
    "num_images = 15\n",
    "base_name = 'CT30_'\n",
    "float_directory = '/Users/maycaj/Documents/Hyperspectral-Imaging_II/Lipstick_Sunscreen Images/Sunscreen 1/'\n",
    "crop_directory = '/Users/maycaj/Documents/Hyperspectral-Imaging_II/Sunscreen Input/Lower Leg/'\n",
    "PNGpaths = []\n",
    "Floatpaths = []\n",
    "Greenpaths = []\n",
    "HDRpaths = []\n",
    "NPYpaths = []\n",
    "for i in range(num_images):\n",
    "    Floatpaths.append(float_directory + base_name + str(i+1) + '.float')\n",
    "    HDRpaths.append(float_directory + base_name + str(i+1) + '.hdr')\n",
    "    PNGpaths.append(crop_directory + base_name + str(i+1) + 'output.png')\n",
    "    Greenpaths.append(crop_directory + base_name + str(i+1) + 'GreenOutput.png')\n",
    "    NPYpaths.append(crop_directory + base_name + str(i+1) + 'Sunscreen.npy')\n",
    "print(Floatpaths)\n",
    "print(HDRpaths)\n",
    "print(Greenpaths)\n",
    "print(PNGpaths)\n",
    "print(NPYpaths)"
   ]
  },
  {
   "cell_type": "markdown",
   "metadata": {},
   "source": [
    "# **Step 2:** Generate all of the Output.png files from the .float files"
   ]
  },
  {
   "cell_type": "code",
   "execution_count": null,
   "metadata": {},
   "outputs": [],
   "source": []
  },
  {
   "cell_type": "markdown",
   "metadata": {},
   "source": [
    "# **Step3:** Use the output.png files to generate the .npy files "
   ]
  },
  {
   "cell_type": "code",
   "execution_count": 19,
   "metadata": {},
   "outputs": [
    {
     "name": "stdout",
     "output_type": "stream",
     "text": [
      "pixel_loaded has correct datatype\n",
      "pixel_loaded has correct datatype\n",
      "pixel_loaded has correct datatype\n",
      "pixel_loaded has correct datatype\n",
      "pixel_loaded has correct datatype\n",
      "pixel_loaded has correct datatype\n",
      "pixel_loaded has correct datatype\n",
      "pixel_loaded has correct datatype\n",
      "pixel_loaded has correct datatype\n",
      "pixel_loaded has correct datatype\n",
      "pixel_loaded has correct datatype\n",
      "pixel_loaded has correct datatype\n",
      "pixel_loaded has correct datatype\n",
      "pixel_loaded has correct datatype\n",
      "pixel_loaded has correct datatype\n"
     ]
    }
   ],
   "source": [
    "import numpy as np\n",
    "import spectral.io.envi as envi\n",
    "from PIL import Image\n",
    "\n",
    "# Define the green color you want to use\n",
    "green = (0, 255, 0, 255)  # RGBA format (R, G, B, A)\n",
    "\n",
    "for i in range(num_images):\n",
    "    image = Image.open(PNGpaths[i]) #open PNG\n",
    "    PNG_NP = image.load() #convert PNG to npy\n",
    "    x_indexes = []\n",
    "    y_indexes = []\n",
    "    for x in range(image.width):\n",
    "        for y in range(image.height):\n",
    "            r, g, b, a = PNG_NP[x, y]\n",
    "            if a != 0 or (r != 0 and g != 0 and b != 0):\n",
    "                x_indexes.append(x) # pull indecies where there are crops\n",
    "                y_indexes.append(y)\n",
    "    #find the x and y coordinates of the crop\n",
    "    x_range = [np.min(x_indexes), np.max(x_indexes)] \n",
    "    y_range = [np.min(y_indexes), np.max(y_indexes)]\n",
    "\n",
    "    # load the .float file\n",
    "    img = envi.open(HDRpaths[i],Floatpaths[i])\n",
    "    # crop the image\n",
    "    cropped = img[y_range[0]:y_range[1], x_range[0]:x_range[1],:]\n",
    "    # save the .npy\n",
    "    np.save(NPYpaths[i], cropped)\n",
    "    # Ensure saved data is correct type\n",
    "    loaded = np.load(NPYpaths[i])\n",
    "    if loaded.dtype == 'float32':\n",
    "        print('pixel_loaded has correct datatype')\n",
    "    else:\n",
    "        raise Exception('INCORRECT DATATYPE')\n"
   ]
  },
  {
   "cell_type": "markdown",
   "metadata": {},
   "source": [
    "# **Step 4:** Explore the cropped data"
   ]
  },
  {
   "cell_type": "code",
   "execution_count": 24,
   "metadata": {},
   "outputs": [
    {
     "data": {
      "application/vnd.jupyter.widget-view+json": {
       "model_id": "fec04563e2f8402bad25095c960135d4",
       "version_major": 2,
       "version_minor": 0
      },
      "text/plain": [
       "interactive(children=(IntSlider(value=63, description='band', max=127), Output()), _dom_classes=('widget-inter…"
      ]
     },
     "metadata": {},
     "output_type": "display_data"
    },
    {
     "data": {
      "text/plain": [
       "<function __main__.interactive_plot(band)>"
      ]
     },
     "execution_count": 24,
     "metadata": {},
     "output_type": "execute_result"
    }
   ],
   "source": [
    "import matplotlib.pyplot as plt\n",
    "from ipywidgets import interact\n",
    "\n",
    "# choose which image to display\n",
    "i = 14\n",
    "loaded = np.load(NPYpaths[i])\n",
    "# fig, ax = plt.subplots()\n",
    "# ax.imshow(loaded[:, :, 49:50], cmap='gray')\n",
    "# ax.set_title('Gray Image – Masked')\n",
    "\n",
    "def interactive_plot(band):\n",
    "    # Create a new figure with two subplots\n",
    "    fig, (ax5, ax4) = plt.subplots(1, 2)\n",
    "\n",
    "    # Only display the 49th band in gray\n",
    "    grey_band = loaded[:, :, band:(band + 1)]\n",
    "    print('Grey_bands shape:', grey_band.shape)\n",
    "\n",
    "    # Display the gray image in the first subplot\n",
    "    ax5.imshow(grey_band, cmap='gray')\n",
    "    ax5.set_title(f'Gray Image – cropped (band = {band})')\n",
    "\n",
    "    # Grab the colored bands\n",
    "    loaded_red = loaded[:,:,20]\n",
    "    loaded_green = loaded[:,:,35]\n",
    "    loaded_blue = loaded[:,:,60]\n",
    "   \n",
    "    loaded_color = np.dstack((loaded_blue, loaded_green, loaded_red))\n",
    "\n",
    "    # Display the color image in the second subplot\n",
    "    ax4.imshow(loaded_color)\n",
    "    ax4.set_title(f'Color Image number {i+1}')\n",
    "\n",
    "    # Show the figure with both subplots\n",
    "    plt.show()\n",
    "\n",
    "interact(interactive_plot, band=(0, 127, 1))"
   ]
  }
 ],
 "metadata": {
  "kernelspec": {
   "display_name": "Python 3",
   "language": "python",
   "name": "python3"
  },
  "language_info": {
   "codemirror_mode": {
    "name": "ipython",
    "version": 3
   },
   "file_extension": ".py",
   "mimetype": "text/x-python",
   "name": "python",
   "nbconvert_exporter": "python",
   "pygments_lexer": "ipython3",
   "version": "3.9.6"
  }
 },
 "nbformat": 4,
 "nbformat_minor": 2
}
